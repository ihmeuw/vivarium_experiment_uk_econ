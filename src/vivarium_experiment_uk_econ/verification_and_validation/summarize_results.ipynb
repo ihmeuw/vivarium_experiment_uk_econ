{
 "cells": [
  {
   "cell_type": "code",
   "execution_count": null,
   "metadata": {},
   "outputs": [],
   "source": [
    "import numpy as np, matplotlib.pyplot as plt, pandas as pd\n",
    "pd.set_option('display.max_rows', 8)\n",
    "!date\n",
    "\n",
    "%load_ext autoreload\n",
    "%autoreload 2"
   ]
  },
  {
   "cell_type": "markdown",
   "metadata": {},
   "source": [
    "# Load results from a distributed run of the uk_econ sim"
   ]
  },
  {
   "cell_type": "code",
   "execution_count": null,
   "metadata": {},
   "outputs": [],
   "source": [
    "import glob\n",
    "flist = list(sorted(glob.glob('/share/costeffectiveness/results/test/*/output.hdf')))\n",
    "fname = flist[-1] # most recent run with output data\n",
    "print('loading from', fname)\n",
    "df = pd.read_hdf(fname)\n",
    "df"
   ]
  },
  {
   "cell_type": "code",
   "execution_count": null,
   "metadata": {},
   "outputs": [],
   "source": [
    "stratification_cols = ['taxes.health_benefit', 'taxes.non_health_fraction']\n",
    "df['deaths'] = df.death_count.astype(float)\n",
    "df['utility'] = df.utility.astype(float)\n",
    "df['taxes_spent_on_health'] = df.taxes_spent_on_health.astype(float)\n",
    "df['gdp_pc'] = df.gdp_pc.astype(float)"
   ]
  },
  {
   "cell_type": "code",
   "execution_count": null,
   "metadata": {},
   "outputs": [],
   "source": [
    "print('Deaths')\n",
    "t = df.groupby(stratification_cols).deaths.describe()\n",
    "np.round(t, 1)['mean'].unstack()"
   ]
  },
  {
   "cell_type": "code",
   "execution_count": null,
   "metadata": {},
   "outputs": [],
   "source": [
    "print('Total utility (thousand utils)')\n",
    "t = df.groupby(stratification_cols).utility.describe()\n",
    "np.round(t/1e3, 1)['mean'].unstack()"
   ]
  },
  {
   "cell_type": "code",
   "execution_count": null,
   "metadata": {},
   "outputs": [],
   "source": [
    "print('Total health spending (millions)')\n",
    "t = df.groupby(stratification_cols).taxes_spent_on_health.describe()\n",
    "np.round(t/1e6, 1)['mean'].unstack()"
   ]
  },
  {
   "cell_type": "code",
   "execution_count": null,
   "metadata": {},
   "outputs": [],
   "source": [
    "baseline = df[(df['taxes.health_benefit'] == 0) & (df['taxes.non_health_fraction'] == 0.9)]\n",
    "baseline"
   ]
  },
  {
   "cell_type": "code",
   "execution_count": null,
   "metadata": {},
   "outputs": [],
   "source": [
    "df2 = pd.merge(df, baseline.filter(['deaths', 'utility', 'taxes_spent_on_health']),\n",
    "                 left_index=True, right_index=True, how='left',\n",
    "                 suffixes=('', '_baseline'))\n",
    "df2['deaths_averted'] = df2.deaths_baseline - df2.deaths\n",
    "df2['increase_in_utility'] = df2.utility - df2.utility_baseline\n",
    "df2['cost'] = df2.taxes_spent_on_health - df2.taxes_spent_on_health_baseline\n",
    "\n",
    "df2['utility_per_death_averted'] = df2.increase_in_utility / df2.deaths_averted\n",
    "df2['cost_per_death_averted'] = df2.cost / df2.deaths_averted"
   ]
  },
  {
   "cell_type": "code",
   "execution_count": null,
   "metadata": {},
   "outputs": [],
   "source": [
    "t = df2.groupby(stratification_cols).deaths_averted.describe()\n",
    "print('Deaths Averted')\n",
    "np.round(t, 1)['mean'].unstack()"
   ]
  },
  {
   "cell_type": "code",
   "execution_count": null,
   "metadata": {},
   "outputs": [],
   "source": [
    "t = df2.groupby(stratification_cols).increase_in_utility.describe()\n",
    "print('Increase in total utility')\n",
    "np.round(t, 1)['mean'].unstack()"
   ]
  },
  {
   "cell_type": "code",
   "execution_count": null,
   "metadata": {},
   "outputs": [],
   "source": [
    "t = df2.groupby(stratification_cols).cost.describe()\n",
    "print('Increase in total health spending (millions)')\n",
    "np.round(t/1e6, 1)['mean'].unstack()"
   ]
  },
  {
   "cell_type": "code",
   "execution_count": null,
   "metadata": {},
   "outputs": [],
   "source": [
    "t = df2.groupby(stratification_cols).utility_per_death_averted.describe()\n",
    "print('Increase in utility per death averted')\n",
    "np.round(t, 1)['mean'].unstack().iloc[1:]"
   ]
  },
  {
   "cell_type": "code",
   "execution_count": null,
   "metadata": {},
   "outputs": [],
   "source": [
    "t = df2.groupby(stratification_cols).cost_per_death_averted.describe()\n",
    "print('Increase in total health spending per death averted (millions)')\n",
    "np.round(t/1e3, 1)['mean'].unstack().iloc[1:]"
   ]
  },
  {
   "cell_type": "code",
   "execution_count": null,
   "metadata": {},
   "outputs": [],
   "source": [
    "t = df2.groupby(stratification_cols).gdp_pc.describe()\n",
    "print('GDP per capita (thousands)')\n",
    "np.round(t/1e3, 1)['mean'].unstack().iloc[1:]"
   ]
  },
  {
   "cell_type": "code",
   "execution_count": null,
   "metadata": {},
   "outputs": [],
   "source": [
    "np.exp(5)"
   ]
  },
  {
   "cell_type": "code",
   "execution_count": null,
   "metadata": {},
   "outputs": [],
   "source": [
    "t = df2.groupby(stratification_cols).cost_per_death_averted.describe() / df2.groupby(stratification_cols).gdp_pc.describe()\n",
    "print('GDPpc multiplier to get ICER')\n",
    "np.round(t, 1)['mean'].unstack().iloc[1:]"
   ]
  },
  {
   "cell_type": "code",
   "execution_count": null,
   "metadata": {},
   "outputs": [],
   "source": []
  },
  {
   "cell_type": "code",
   "execution_count": null,
   "metadata": {},
   "outputs": [],
   "source": []
  }
 ],
 "metadata": {
  "kernelspec": {
   "display_name": "Python 3",
   "language": "python",
   "name": "python3"
  },
  "language_info": {
   "codemirror_mode": {
    "name": "ipython",
    "version": 3
   },
   "file_extension": ".py",
   "mimetype": "text/x-python",
   "name": "python",
   "nbconvert_exporter": "python",
   "pygments_lexer": "ipython3",
   "version": "3.6.7"
  }
 },
 "nbformat": 4,
 "nbformat_minor": 2
}
